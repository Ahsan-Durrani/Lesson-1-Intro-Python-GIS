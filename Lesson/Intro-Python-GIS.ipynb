{
 "cells": [
  {
   "cell_type": "markdown",
   "metadata": {},
   "source": [
    "# Introduction to Python GIS\n",
    "\n",
    "##<a name='overview'> General overview of the latter part of the course\n",
    "\n",
    "Now as we know the basics we are ready to advance and apply those skills to different GIS related tasks. During the next seven weeks we will learn how to deal with\n",
    "spatial data and analyze it using \"pure\" Python.\n",
    " \n",
    "At the end of the course you should be able to:\n",
    "\n",
    " - Read / write spatial data from/to different file formats\n",
    " - Deal with different projections\n",
    " - Do different geometric operations and geocoding\n",
    " - Do spatial queries\n",
    " - Do simple spatial analyses\n",
    " - Visualize data and create (interactive) maps:"
   ]
  },
  {
   "cell_type": "code",
   "execution_count": 5,
   "metadata": {
    "collapsed": false
   },
   "outputs": [
    {
     "data": {
      "text/html": [
       "\n",
       "        <iframe\n",
       "            width=\"800\"\n",
       "            height=\"800\"\n",
       "            src=\"http://ow.ly/x4go3058HQ1\"\n",
       "            frameborder=\"0\"\n",
       "            allowfullscreen\n",
       "        ></iframe>\n",
       "        "
      ],
      "text/plain": [
       "<IPython.lib.display.IFrame at 0x4d17240>"
      ]
     },
     "execution_count": 5,
     "metadata": {},
     "output_type": "execute_result"
    }
   ],
   "source": [
    "from IPython.display import IFrame\n",
    "IFrame('http://ow.ly/x4go3058HQ1', width=800, height=800)"
   ]
  }
 ],
 "metadata": {
  "anaconda-cloud": {},
  "kernelspec": {
   "display_name": "Python [conda root]",
   "language": "python",
   "name": "conda-root-py"
  },
  "language_info": {
   "codemirror_mode": {
    "name": "ipython",
    "version": 3
   },
   "file_extension": ".py",
   "mimetype": "text/x-python",
   "name": "python",
   "nbconvert_exporter": "python",
   "pygments_lexer": "ipython3",
   "version": "3.5.2"
  }
 },
 "nbformat": 4,
 "nbformat_minor": 1
}
